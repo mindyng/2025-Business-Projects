{
 "cells": [
  {
   "cell_type": "code",
   "execution_count": 1,
   "id": "9ef79025",
   "metadata": {
    "execution": {
     "iopub.execute_input": "2025-01-15T18:25:14.650767Z",
     "iopub.status.busy": "2025-01-15T18:25:14.650444Z",
     "iopub.status.idle": "2025-01-15T18:25:18.225286Z",
     "shell.execute_reply": "2025-01-15T18:25:18.224232Z"
    },
    "papermill": {
     "duration": 3.581313,
     "end_time": "2025-01-15T18:25:18.227063",
     "exception": false,
     "start_time": "2025-01-15T18:25:14.645750",
     "status": "completed"
    },
    "tags": []
   },
   "outputs": [],
   "source": [
    "import numpy as np\n",
    "import pandas as pd\n",
    "\n",
    "from sklearn.preprocessing import StandardScaler\n",
    "\n",
    "from sklearn.cluster import KMeans\n",
    "from sklearn.decomposition import PCA\n",
    "from scipy.cluster.hierarchy import dendrogram, linkage, fcluster \n",
    "\n",
    "# Visualization\n",
    "import matplotlib.pyplot as plt\n",
    "import seaborn as sns"
   ]
  },
  {
   "cell_type": "markdown",
   "id": "db0e43d4",
   "metadata": {
    "papermill": {
     "duration": 0.002756,
     "end_time": "2025-01-15T18:25:18.233434",
     "exception": false,
     "start_time": "2025-01-15T18:25:18.230678",
     "status": "completed"
    },
    "tags": []
   },
   "source": [
    "# Data Generation"
   ]
  },
  {
   "cell_type": "code",
   "execution_count": 2,
   "id": "309f1f31",
   "metadata": {
    "_cell_guid": "b1076dfc-b9ad-4769-8c92-a6c4dae69d19",
    "_uuid": "8f2839f25d086af736a60e9eeb907d3b93b6e0e5",
    "execution": {
     "iopub.execute_input": "2025-01-15T18:25:18.240809Z",
     "iopub.status.busy": "2025-01-15T18:25:18.240275Z",
     "iopub.status.idle": "2025-01-15T18:25:18.255038Z",
     "shell.execute_reply": "2025-01-15T18:25:18.253982Z"
    },
    "papermill": {
     "duration": 0.020461,
     "end_time": "2025-01-15T18:25:18.256873",
     "exception": false,
     "start_time": "2025-01-15T18:25:18.236412",
     "status": "completed"
    },
    "tags": []
   },
   "outputs": [],
   "source": [
    "# Create sample customer data\n",
    "customer_data = {\n",
    "    'customer_id': range(1000),\n",
    "    'purchase_frequency': np.random.randint(1, 52, 1000),  # purchases per year\n",
    "    'avg_transaction_value': np.random.normal(150, 50, 1000),  # average spend per visit\n",
    "    'loyalty_points': np.random.randint(0, 5000, 1000),\n",
    "    'store_visits': np.random.randint(0, 24, 1000),  # visits per year\n",
    "    'online_visits': np.random.randint(0, 100, 1000),  # online visits per year\n",
    "    'returns_rate': np.random.uniform(0, 0.2, 1000),  # return rate percentage\n",
    "    'skincare_purchases': np.random.randint(0, 30, 1000),\n",
    "    'makeup_purchases': np.random.randint(0, 40, 1000),\n",
    "    'fragrance_purchases': np.random.randint(0, 15, 1000)\n",
    "}\n",
    "\n",
    "customer_df = pd.DataFrame(customer_data)\n",
    "\n",
    "# Create sample product data\n",
    "product_data = {\n",
    "    'product_id': range(500),\n",
    "    'price_point': np.random.normal(45, 20, 500),\n",
    "    'rating': np.random.uniform(3.5, 5, 500),\n",
    "    'return_rate': np.random.uniform(0, 0.15, 500),\n",
    "    'reorder_rate': np.random.uniform(0.1, 0.5, 500),\n",
    "    'shelf_life_months': np.random.randint(12, 36, 500),\n",
    "    'margin': np.random.uniform(0.3, 0.7, 500),\n",
    "    'ingredients_count': np.random.randint(5, 50, 500),\n",
    "    'packaging_size_ml': np.random.normal(100, 30, 500),\n",
    "    'fragrance_intensity': np.random.uniform(0, 5, 500),\n",
    "    'application_ease': np.random.uniform(3, 5, 500)\n",
    "}\n",
    "\n",
    "product_df = pd.DataFrame(product_data)"
   ]
  },
  {
   "cell_type": "markdown",
   "id": "98d7e122",
   "metadata": {
    "papermill": {
     "duration": 0.002938,
     "end_time": "2025-01-15T18:25:18.263122",
     "exception": false,
     "start_time": "2025-01-15T18:25:18.260184",
     "status": "completed"
    },
    "tags": []
   },
   "source": [
    "# K-Means"
   ]
  },
  {
   "cell_type": "code",
   "execution_count": 3,
   "id": "4b6a32af",
   "metadata": {
    "execution": {
     "iopub.execute_input": "2025-01-15T18:25:18.270633Z",
     "iopub.status.busy": "2025-01-15T18:25:18.270278Z",
     "iopub.status.idle": "2025-01-15T18:25:18.276446Z",
     "shell.execute_reply": "2025-01-15T18:25:18.275262Z"
    },
    "papermill": {
     "duration": 0.012106,
     "end_time": "2025-01-15T18:25:18.278218",
     "exception": false,
     "start_time": "2025-01-15T18:25:18.266112",
     "status": "completed"
    },
    "tags": []
   },
   "outputs": [],
   "source": [
    "def perform_customer_segmentation(df, n_clusters=4):\n",
    "    \"\"\"\n",
    "    Perform K-means clustering on customer data\n",
    "    \"\"\"\n",
    "    # Select features for clustering\n",
    "    features = [\n",
    "        'purchase_frequency', 'avg_transaction_value', 'loyalty_points',\n",
    "        'store_visits', 'online_visits', 'returns_rate',\n",
    "        'skincare_purchases', 'makeup_purchases', 'fragrance_purchases'\n",
    "    ]\n",
    "    \n",
    "    # Standardize features\n",
    "    scaler = StandardScaler()\n",
    "    X_scaled = scaler.fit_transform(df[features])\n",
    "    \n",
    "    # Apply K-means\n",
    "    kmeans = KMeans(n_clusters=n_clusters, n_init=10, random_state=42)\n",
    "    df['customer_segment'] = kmeans.fit_predict(X_scaled)\n",
    "    \n",
    "    # Analyze segments\n",
    "    segment_analysis = df.groupby('customer_segment')[features].mean()\n",
    "    \n",
    "    return df, segment_analysis, kmeans.cluster_centers_"
   ]
  },
  {
   "cell_type": "markdown",
   "id": "69dbcd95",
   "metadata": {
    "papermill": {
     "duration": 0.002805,
     "end_time": "2025-01-15T18:25:18.284288",
     "exception": false,
     "start_time": "2025-01-15T18:25:18.281483",
     "status": "completed"
    },
    "tags": []
   },
   "source": [
    "# Hierarchical Clustering"
   ]
  },
  {
   "cell_type": "code",
   "execution_count": 4,
   "id": "20dd1e5f",
   "metadata": {
    "execution": {
     "iopub.execute_input": "2025-01-15T18:25:18.291813Z",
     "iopub.status.busy": "2025-01-15T18:25:18.291399Z",
     "iopub.status.idle": "2025-01-15T18:25:18.297457Z",
     "shell.execute_reply": "2025-01-15T18:25:18.296153Z"
    },
    "papermill": {
     "duration": 0.011742,
     "end_time": "2025-01-15T18:25:18.299058",
     "exception": false,
     "start_time": "2025-01-15T18:25:18.287316",
     "status": "completed"
    },
    "tags": []
   },
   "outputs": [],
   "source": [
    "def perform_product_clustering(df):\n",
    "    \"\"\"\n",
    "    Perform hierarchical clustering on product data\n",
    "    \"\"\"\n",
    "    features = [\n",
    "        'price_point', 'rating', 'return_rate', 'reorder_rate',\n",
    "        'shelf_life_months', 'margin', 'ingredients_count',\n",
    "        'packaging_size_ml', 'fragrance_intensity', 'application_ease'\n",
    "    ]\n",
    "    \n",
    "    # Standardize features\n",
    "    scaler = StandardScaler()\n",
    "    X_scaled = scaler.fit_transform(df[features])\n",
    "    \n",
    "    # Create linkage matrix\n",
    "    linkage_matrix = linkage(X_scaled, method='ward')\n",
    "    \n",
    "    # Create clusters\n",
    "    n_clusters = 5\n",
    "    df['product_cluster'] = fcluster(linkage_matrix, t=n_clusters, criterion='maxclust')\n",
    "    \n",
    "    # Analyze clusters\n",
    "    cluster_analysis = df.groupby('product_cluster')[features].mean()\n",
    "    \n",
    "    return df, cluster_analysis, linkage_matrix"
   ]
  },
  {
   "cell_type": "markdown",
   "id": "dc5bf829",
   "metadata": {
    "papermill": {
     "duration": 0.002662,
     "end_time": "2025-01-15T18:25:18.304947",
     "exception": false,
     "start_time": "2025-01-15T18:25:18.302285",
     "status": "completed"
    },
    "tags": []
   },
   "source": [
    "# PCA"
   ]
  },
  {
   "cell_type": "code",
   "execution_count": 5,
   "id": "0755a100",
   "metadata": {
    "execution": {
     "iopub.execute_input": "2025-01-15T18:25:18.312187Z",
     "iopub.status.busy": "2025-01-15T18:25:18.311747Z",
     "iopub.status.idle": "2025-01-15T18:25:18.318759Z",
     "shell.execute_reply": "2025-01-15T18:25:18.317652Z"
    },
    "papermill": {
     "duration": 0.012561,
     "end_time": "2025-01-15T18:25:18.320482",
     "exception": false,
     "start_time": "2025-01-15T18:25:18.307921",
     "status": "completed"
    },
    "tags": []
   },
   "outputs": [],
   "source": [
    "def perform_product_pca(df):\n",
    "    \"\"\"\n",
    "    Perform PCA on product attributes\n",
    "    \"\"\"\n",
    "    features = [\n",
    "        'price_point', 'rating', 'return_rate', 'reorder_rate',\n",
    "        'shelf_life_months', 'margin', 'ingredients_count',\n",
    "        'packaging_size_ml', 'fragrance_intensity', 'application_ease'\n",
    "    ]\n",
    "    \n",
    "    # Standardize features\n",
    "    scaler = StandardScaler()\n",
    "    X_scaled = scaler.fit_transform(df[features])\n",
    "    \n",
    "    # Apply PCA\n",
    "    pca = PCA()\n",
    "    pca_result = pca.fit_transform(X_scaled)\n",
    "    \n",
    "    # Create DataFrame with PCA results\n",
    "    pca_df = pd.DataFrame(\n",
    "        pca_result,\n",
    "        columns=[f'PC{i+1}' for i in range(len(features))]\n",
    "    )\n",
    "    \n",
    "    # Create loadings matrix\n",
    "    loadings = pd.DataFrame(\n",
    "        pca.components_.T,\n",
    "        columns=[f'PC{i+1}' for i in range(len(features))],\n",
    "        index=features\n",
    "    )\n",
    "    \n",
    "    # Calculate explained variance\n",
    "    explained_variance = pd.DataFrame({\n",
    "        'Principal Component': [f'PC{i+1}' for i in range(len(features))],\n",
    "        'Explained Variance Ratio': pca.explained_variance_ratio_,\n",
    "        'Cumulative Variance Ratio': np.cumsum(pca.explained_variance_ratio_)\n",
    "    })\n",
    "    \n",
    "    return pca_df, loadings, explained_variance"
   ]
  },
  {
   "cell_type": "markdown",
   "id": "4a4cd13b",
   "metadata": {
    "papermill": {
     "duration": 0.002849,
     "end_time": "2025-01-15T18:25:18.326568",
     "exception": false,
     "start_time": "2025-01-15T18:25:18.323719",
     "status": "completed"
    },
    "tags": []
   },
   "source": [
    "# Insights"
   ]
  },
  {
   "cell_type": "code",
   "execution_count": 6,
   "id": "4a7210cc",
   "metadata": {
    "execution": {
     "iopub.execute_input": "2025-01-15T18:25:18.333831Z",
     "iopub.status.busy": "2025-01-15T18:25:18.333461Z",
     "iopub.status.idle": "2025-01-15T18:25:18.589319Z",
     "shell.execute_reply": "2025-01-15T18:25:18.588354Z"
    },
    "papermill": {
     "duration": 0.261811,
     "end_time": "2025-01-15T18:25:18.591375",
     "exception": false,
     "start_time": "2025-01-15T18:25:18.329564",
     "status": "completed"
    },
    "tags": []
   },
   "outputs": [],
   "source": [
    "# Perform analyses\n",
    "segmented_customers, segment_analysis, cluster_centers = perform_customer_segmentation(customer_df)\n",
    "clustered_products, product_cluster_analysis, product_linkage = perform_product_clustering(product_df)\n",
    "product_pca, pca_loadings, pca_variance = perform_product_pca(product_df)\n",
    "\n",
    "# Example of business insights generation\n",
    "def generate_customer_segment_insights(segment_analysis):\n",
    "    \"\"\"\n",
    "    Generate business insights from customer segments\n",
    "    \"\"\"\n",
    "    insights = []\n",
    "    \n",
    "    for segment in segment_analysis.index:\n",
    "        segment_data = segment_analysis.loc[segment]\n",
    "        \n",
    "        # High value customers\n",
    "        if segment_data['avg_transaction_value'] > segment_analysis['avg_transaction_value'].mean():\n",
    "            insights.append(f\"Segment {segment} represents high-value customers with average transaction value of ${segment_data['avg_transaction_value']:.2f}\")\n",
    "        \n",
    "        # Online vs store preference\n",
    "        if segment_data['online_visits'] > segment_data['store_visits'] * 2:\n",
    "            insights.append(f\"Segment {segment} shows strong preference for online shopping with {segment_data['online_visits']:.0f} online visits vs {segment_data['store_visits']:.0f} store visits\")\n",
    "        \n",
    "        # Product category preference\n",
    "        max_category = max(\n",
    "            ('skincare', segment_data['skincare_purchases']),\n",
    "            ('makeup', segment_data['makeup_purchases']),\n",
    "            ('fragrance', segment_data['fragrance_purchases']),\n",
    "            key=lambda x: x[1]\n",
    "        )\n",
    "        insights.append(f\"Segment {segment} shows strongest preference for {max_category[0]} with {max_category[1]:.0f} purchases\")\n",
    "    \n",
    "    return insights"
   ]
  },
  {
   "cell_type": "code",
   "execution_count": 7,
   "id": "5b59e787",
   "metadata": {
    "execution": {
     "iopub.execute_input": "2025-01-15T18:25:18.599135Z",
     "iopub.status.busy": "2025-01-15T18:25:18.598720Z",
     "iopub.status.idle": "2025-01-15T18:25:18.636472Z",
     "shell.execute_reply": "2025-01-15T18:25:18.635131Z"
    },
    "papermill": {
     "duration": 0.043692,
     "end_time": "2025-01-15T18:25:18.638442",
     "exception": false,
     "start_time": "2025-01-15T18:25:18.594750",
     "status": "completed"
    },
    "tags": []
   },
   "outputs": [
    {
     "name": "stdout",
     "output_type": "stream",
     "text": [
      "\n",
      "Customer Segment Insights:\n",
      "- Segment 0 represents high-value customers with average transaction value of $153.60\n",
      "- Segment 0 shows strong preference for online shopping with 41 online visits vs 15 store visits\n",
      "- Segment 0 shows strongest preference for makeup with 19 purchases\n",
      "- Segment 1 shows strong preference for online shopping with 55 online visits vs 8 store visits\n",
      "- Segment 1 shows strongest preference for makeup with 24 purchases\n",
      "- Segment 2 represents high-value customers with average transaction value of $153.18\n",
      "- Segment 2 shows strong preference for online shopping with 46 online visits vs 7 store visits\n",
      "- Segment 2 shows strongest preference for makeup with 20 purchases\n",
      "- Segment 3 represents high-value customers with average transaction value of $152.94\n",
      "- Segment 3 shows strong preference for online shopping with 50 online visits vs 16 store visits\n",
      "- Segment 3 shows strongest preference for makeup with 16 purchases\n",
      "\n",
      "Product Cluster Characteristics:\n",
      "\n",
      "Cluster 1:\n",
      "Average Price: $26.89\n",
      "Average Rating: 4.11\n",
      "Reorder Rate: 28.55%\n",
      "\n",
      "Cluster 2:\n",
      "Average Price: $53.22\n",
      "Average Rating: 4.09\n",
      "Reorder Rate: 39.03%\n",
      "\n",
      "Cluster 3:\n",
      "Average Price: $45.16\n",
      "Average Rating: 4.34\n",
      "Reorder Rate: 34.80%\n",
      "\n",
      "Cluster 4:\n",
      "Average Price: $54.47\n",
      "Average Rating: 4.17\n",
      "Reorder Rate: 23.78%\n",
      "\n",
      "Cluster 5:\n",
      "Average Price: $41.59\n",
      "Average Rating: 4.39\n",
      "Reorder Rate: 23.41%\n",
      "\n",
      "PCA Insights:\n",
      "Top 3 Principal Components explain:\n",
      "PC1: 11.87% of variance\n",
      "PC2: 11.14% of variance\n",
      "PC3: 11.00% of variance\n"
     ]
    }
   ],
   "source": [
    "# Generate and print insights\n",
    "customer_insights = generate_customer_segment_insights(segment_analysis)\n",
    "print(\"\\nCustomer Segment Insights:\")\n",
    "for insight in customer_insights:\n",
    "    print(f\"- {insight}\")\n",
    "\n",
    "# Print key product cluster characteristics\n",
    "print(\"\\nProduct Cluster Characteristics:\")\n",
    "for cluster in product_cluster_analysis.index:\n",
    "    print(f\"\\nCluster {cluster}:\")\n",
    "    print(f\"Average Price: ${product_cluster_analysis.loc[cluster, 'price_point']:.2f}\")\n",
    "    print(f\"Average Rating: {product_cluster_analysis.loc[cluster, 'rating']:.2f}\")\n",
    "    print(f\"Reorder Rate: {product_cluster_analysis.loc[cluster, 'reorder_rate']:.2%}\")\n",
    "\n",
    "# Print PCA insights\n",
    "print(\"\\nPCA Insights:\")\n",
    "print(\"Top 3 Principal Components explain:\")\n",
    "for i in range(3):\n",
    "    print(f\"PC{i+1}: {pca_variance['Explained Variance Ratio'][i]:.2%} of variance\")\n",
    "\n",
    "# Export results to CSV\n",
    "segmented_customers.to_csv('sephora_customer_segments.csv', index=False)\n",
    "clustered_products.to_csv('sephora_product_clusters.csv', index=False)"
   ]
  }
 ],
 "metadata": {
  "kaggle": {
   "accelerator": "none",
   "dataSources": [],
   "dockerImageVersionId": 30839,
   "isGpuEnabled": false,
   "isInternetEnabled": true,
   "language": "python",
   "sourceType": "notebook"
  },
  "kernelspec": {
   "display_name": "Python 3",
   "language": "python",
   "name": "python3"
  },
  "language_info": {
   "codemirror_mode": {
    "name": "ipython",
    "version": 3
   },
   "file_extension": ".py",
   "mimetype": "text/x-python",
   "name": "python",
   "nbconvert_exporter": "python",
   "pygments_lexer": "ipython3",
   "version": "3.10.12"
  },
  "papermill": {
   "default_parameters": {},
   "duration": 7.631575,
   "end_time": "2025-01-15T18:25:19.462648",
   "environment_variables": {},
   "exception": null,
   "input_path": "__notebook__.ipynb",
   "output_path": "__notebook__.ipynb",
   "parameters": {},
   "start_time": "2025-01-15T18:25:11.831073",
   "version": "2.6.0"
  }
 },
 "nbformat": 4,
 "nbformat_minor": 5
}
